import requests

# Replace with your deployed Cloud Function URL
cloud_function_url = "https://us-central1-ankercloud-testing-account.cloudfunctions.net/gemini-devops-poc"

# Define the query you want to send
# query = "is there any issuue in the code what is its staatus if not then deploy to cloud run"
query = "Can you anlyse the code and if its working  deploy to cloud run"


# Prepare the payload
payload = {
    "query": query,
    "REPO_OWNER":'vebss123',
    "REPO_NAME":"PHP"
}

# Define the headers if needed (for example, if you use an API key or token)
headers = {
    "Content-Type": "application/json"
}

# Send a POST request to the Cloud Function
response = requests.post(cloud_function_url, json=payload, headers=headers)
# print(response)

# Check if the request was successful
# response.raise_for_status()  # Raises an HTTPError for bad responses
OUTPUT = response.json()
# print(OUTPUT)
    # Print the response from the Cloud Functionz
print("Response from Cloud Function:", OUTPUT['response'])

